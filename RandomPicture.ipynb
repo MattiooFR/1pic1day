{
 "cells": [
  {
   "cell_type": "code",
   "execution_count": 43,
   "metadata": {},
   "outputs": [
    {
     "data": {
      "text/plain": [
       "'/Users/mattioo/Pictures/Photos Clients/St Petersbourg/20200310_StPetersbourg_MD_08357.jpg'"
      ]
     },
     "execution_count": 43,
     "metadata": {},
     "output_type": "execute_result"
    }
   ],
   "source": [
    "import glob\n",
    "import random\n",
    "\n",
    "photosURI = glob.glob(\"/Users/mattioo/Pictures/Photos Clients/Jehanne/Nu/*.jpg\")\n",
    "photosURI.extend(glob.glob(\"/Users/mattioo/Pictures/Photos Clients/St Petersbourg/*.jpg\"))\n",
    "\n",
    "def getRandomElement(l):\n",
    "    \"\"\"\n",
    "    l : list of elements\n",
    "    return one random element from that list\n",
    "    \"\"\"\n",
    "    return l[random.randint(0, len(l))]\n",
    "\n",
    "getRandomElement(photosURI)"
   ]
  },
  {
   "cell_type": "code",
   "execution_count": null,
   "metadata": {},
   "outputs": [],
   "source": []
  }
 ],
 "metadata": {
  "kernelspec": {
   "display_name": "Python 3.7.5 64-bit ('base': conda)",
   "language": "python",
   "name": "python37564bitbaseconda9c532963ec6246b9ba363cead22775eb"
  },
  "language_info": {
   "codemirror_mode": {
    "name": "ipython",
    "version": 3
   },
   "file_extension": ".py",
   "mimetype": "text/x-python",
   "name": "python",
   "nbconvert_exporter": "python",
   "pygments_lexer": "ipython3",
   "version": "3.7.5"
  }
 },
 "nbformat": 4,
 "nbformat_minor": 4
}
